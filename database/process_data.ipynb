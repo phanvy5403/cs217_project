{
 "cells": [
  {
   "cell_type": "code",
   "execution_count": null,
   "metadata": {},
   "outputs": [],
   "source": [
    "import pandas as pd\n",
    "\n",
    "file_path = \"./Book2.xlsx\"\n",
    "df = pd.read_excel(file_path)\n",
    "\n",
    "json_data = df.to_json(orient=\"records\", indent=4, force_ascii=False)\n",
    "\n",
    "output_path = \"output.json\"  # Replace with your desired output file path\n",
    "with open(output_path, \"w\", encoding=\"utf-8\") as json_file:\n",
    "    json_file.write(json_data)\n",
    "\n",
    "print(\"JSON Output:\\n\", json_data)\n"
   ]
  },
  {
   "cell_type": "code",
   "execution_count": 7,
   "metadata": {},
   "outputs": [],
   "source": [
    "import json\n",
    "\n",
    "# Load JSON data\n",
    "json_file = \"./output.json\"\n",
    "with open(json_file, encoding=\"utf-8\") as file:\n",
    "    data = json.load(file)\n",
    "\n",
    "# Extract relevant fields and remove duplicates\n",
    "loi_vi_pham = set()\n",
    "phuong_tien = set()\n",
    "hinh_phat = set()\n",
    "chi_tiet_loi = set()\n",
    "\n",
    "for item in data:\n",
    "    # print(item.get(\"Lỗi vi phạm\", \"\"))\n",
    "    loi_vi_pham.add((item.get(\"Lỗi vi phạm\", \"\") or \"\").strip())\n",
    "    phuong_tien.add((item.get(\"Phương tiện\", \"\") or \"\").strip().lower().rstrip('.'))\n",
    "    hinh_phat.add((item.get(\"Mức phạt\", \"\") or \"\").strip().lower().rstrip('.'))\n",
    "    chi_tiet_loi.add((item.get(\"Chi tiết lỗi\", \"\") or \"\").strip().rstrip('.'))\n",
    "\n",
    "# Remove null or empty entries\n",
    "loi_vi_pham.discard(\"\")\n",
    "phuong_tien.discard(\"\")\n",
    "hinh_phat.discard(\"\")\n",
    "chi_tiet_loi.discard(\"\")"
   ]
  },
  {
   "cell_type": "code",
   "execution_count": 8,
   "metadata": {},
   "outputs": [
    {
     "name": "stdout",
     "output_type": "stream",
     "text": [
      "SQL insert commands saved to 'insert_commands.sql'\n"
     ]
    }
   ],
   "source": [
    "# Create MySQL INSERT commands\n",
    "def create_insert_commands(table_name, column_name, data_set):\n",
    "    commands = []\n",
    "    for value in data_set:\n",
    "        commands.append(f\"INSERT IGNORE INTO {table_name} ({column_name}) VALUES ('{value.replace(\"'\", \"''\")}');\")\n",
    "    return commands\n",
    "\n",
    "loi_vi_pham_commands = create_insert_commands(\"LoiViPham\", \"NoiDung\", loi_vi_pham)\n",
    "phuong_tien_commands = create_insert_commands(\"PhuongTien\", \"TenPhuongTien\", phuong_tien)\n",
    "hinh_phat_commands = create_insert_commands(\"HinhPhat\", \"NoiDung\", hinh_phat)\n",
    "chi_tiet_loi_commands = create_insert_commands(\"ChiTietLoi\", \"NoiDung\", chi_tiet_loi)\n",
    "\n",
    "# Combine all commands\n",
    "all_commands = (\n",
    "    loi_vi_pham_commands\n",
    "    + phuong_tien_commands\n",
    "    + hinh_phat_commands\n",
    "    + chi_tiet_loi_commands\n",
    ")\n",
    "\n",
    "# Save to SQL file\n",
    "with open(\"insert_commands.sql\", \"w\", encoding=\"utf-8\") as sql_file:\n",
    "    for command in all_commands:\n",
    "        sql_file.write(command + \"\\n\")\n",
    "\n",
    "# Print completion message\n",
    "print(\"SQL insert commands saved to 'insert_commands.sql'\")"
   ]
  },
  {
   "cell_type": "code",
   "execution_count": 1,
   "metadata": {},
   "outputs": [],
   "source": [
    "import mysql.connector\n",
    "from mysql.connector import Error\n",
    "import json"
   ]
  },
  {
   "cell_type": "code",
   "execution_count": 3,
   "metadata": {},
   "outputs": [
    {
     "name": "stdout",
     "output_type": "stream",
     "text": [
      "Data successfully inserted into the `Luat` table!\n",
      "MySQL connection closed.\n"
     ]
    }
   ],
   "source": [
    "# Step 1: Load JSON data\n",
    "json_file = \"./output.json\"  # Replace with your JSON file path\n",
    "with open(json_file, encoding=\"utf-8\") as file:\n",
    "    data = json.load(file)\n",
    "\n",
    "# Step 2: Connect to MySQL\n",
    "try:\n",
    "    connection = mysql.connector.connect(\n",
    "    host=\"localhost\",  # Replace with your MySQL host\n",
    "    user=\"root\",       # Replace with your MySQL username\n",
    "    password=\"Phanvylqd@112\",  # Replace with your MySQL password\n",
    "    database=\"luatgiaothong\"  # Replace with your database name\n",
    "    )\n",
    "    cursor = connection.cursor()\n",
    "\n",
    "    for item in data:\n",
    "        # phuong_tien.add((item.get(\"Phương tiện\", \"\") or \"\").strip().lower().rstrip('.'))\n",
    "        # hinh_phat.add((item.get(\"Mức phạt\", \"\") or \"\").strip().lower().rstrip('.'))\n",
    "\n",
    "        loi_vi_pham = (item.get(\"Lỗi vi phạm\", \"\") or \"\").strip() or None\n",
    "        phuong_tien = (item.get(\"Phương tiện\", \"\") or \"\").strip().lower().rstrip('.') or None\n",
    "        chi_tiet_loi = (item.get(\"Chi tiết lỗi\", \"\") or \"\").strip().rstrip('.') or None\n",
    "        hinh_phat = (item.get(\"Mức phạt\", \"\") or \"\").strip().lower().rstrip('.') or None\n",
    "        dieu_khoan = (item.get(\"Căn cứ pháp lý\", \"\") or \"\").strip() or \"\"\n",
    "        ngay_ap_dung = (item.get(\"Ngày áp dụng\", \"\") or \"\").strip() or None\n",
    "\n",
    "        # Convert date format\n",
    "        if ngay_ap_dung:\n",
    "            day, month, year = ngay_ap_dung.split(\"/\")\n",
    "            ngay_ap_dung = f\"{year}-{month}-{day}\"\n",
    "\n",
    "        # Get IDs for LoiViPham, PhuongTien, ChiTietLoi, and HinhPhat\n",
    "        def get_id(table_name, column_name, value):\n",
    "            if not value:\n",
    "                return None\n",
    "            cursor.execute(f\"SELECT {table_name}ID FROM {table_name} WHERE {column_name} = %s LIMIT 1\", (value,))\n",
    "            result = cursor.fetchone()\n",
    "            return result[0] if result else None\n",
    "\n",
    "        loi_vi_pham_id = get_id(\"LoiViPham\", \"NoiDung\", loi_vi_pham)\n",
    "        phuong_tien_id = get_id(\"PhuongTien\", \"TenPhuongTien\", phuong_tien)\n",
    "        chi_tiet_loi_id = get_id(\"ChiTietLoi\", \"NoiDung\", chi_tiet_loi)\n",
    "        hinh_phat_id = get_id(\"HinhPhat\", \"NoiDung\", hinh_phat)\n",
    "\n",
    "        # Insert data into `Luat` table\n",
    "        insert_luat_query = \"\"\"\n",
    "            INSERT INTO Luat (LoiViPhamID, PhuongTienID, ChiTietLoiID, HinhPhatID, DieuKhoan, NgayApDung)\n",
    "            VALUES (%s, %s, %s, %s, %s, %s)\n",
    "        \"\"\"\n",
    "        cursor.execute(insert_luat_query, (\n",
    "            loi_vi_pham_id,\n",
    "            phuong_tien_id,\n",
    "            chi_tiet_loi_id,\n",
    "            hinh_phat_id,\n",
    "            dieu_khoan,\n",
    "            ngay_ap_dung\n",
    "        ))\n",
    "\n",
    "    # Commit the changes\n",
    "    connection.commit()\n",
    "    print(\"Data successfully inserted into the `Luat` table!\")\n",
    "\n",
    "except Error as e:\n",
    "    print(\"Error while connecting to MySQL:\", e)\n",
    "\n",
    "finally:\n",
    "    if connection.is_connected():\n",
    "        cursor.close()\n",
    "        connection.close()\n",
    "        print(\"MySQL connection closed.\")"
   ]
  }
 ],
 "metadata": {
  "kernelspec": {
   "display_name": "Python 3",
   "language": "python",
   "name": "python3"
  },
  "language_info": {
   "codemirror_mode": {
    "name": "ipython",
    "version": 3
   },
   "file_extension": ".py",
   "mimetype": "text/x-python",
   "name": "python",
   "nbconvert_exporter": "python",
   "pygments_lexer": "ipython3",
   "version": "3.11.0"
  }
 },
 "nbformat": 4,
 "nbformat_minor": 2
}
